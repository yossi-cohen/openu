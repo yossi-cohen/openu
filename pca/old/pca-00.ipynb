{
 "cells": [
  {
   "cell_type": "markdown",
   "metadata": {
    "heading_collapsed": true
   },
   "source": [
    "# Introduction\n",
    "The field of **Dimentionality Reduction** is all about *discovering non-linear relationships in data\n",
    "<br> that are not obvious in the original feature space.*"
   ]
  },
  {
   "cell_type": "markdown",
   "metadata": {
    "heading_collapsed": true,
    "hidden": true
   },
   "source": [
    "## Why do we need Dimentionality Reduction?"
   ]
  },
  {
   "cell_type": "markdown",
   "metadata": {
    "hidden": true
   },
   "source": [
    "- **Visualization**: if we reduce the number of dimentions in data into 2 or 3 space, we can visualize it. \n",
    "  <br>This helps us to analyze the data\n",
    "<br>\n",
    "<br>\n",
    "- **Data Compression**\n",
    "    - easier storage and processing of data\n",
    "<br>\n",
    "<br>\n",
    "- **High dimention data has problems**:\n",
    "    - high time/space complexity\n",
    "    - prone to overfitting\n",
    "    - not all features are relevant, thus if we can reduce the dimention we can reduce the noise."
   ]
  },
  {
   "cell_type": "markdown",
   "metadata": {
    "heading_collapsed": true,
    "hidden": true
   },
   "source": [
    "## Example"
   ]
  },
  {
   "cell_type": "markdown",
   "metadata": {
    "hidden": true
   },
   "source": [
    "### Reducing from D=2 into d=1\n",
    "- rather then representing each point with **two** coordinates\n",
    "    <br> we can represent each point by **one** coordinate (corresponding to its projection on the red line)\n",
    "- by doing this we incure a bit of error as these points do not exactly lie on the red line.\n",
    "\n",
    "### Reducing from D=3 into d=2\n",
    "- similarly, in the drawing on the right, we can see that the data rufly lies on a surface. Tuhs can be described using only 2 dimentions.\n",
    "\n",
    "<img src='images/pca1.png' />"
   ]
  },
  {
   "cell_type": "markdown",
   "metadata": {
    "heading_collapsed": true
   },
   "source": [
    "# Definitions"
   ]
  },
  {
   "cell_type": "markdown",
   "metadata": {
    "hidden": true
   },
   "source": [
    "## Variance\n",
    "The variance is the measure of **how spread out** some data is.\n",
    "<br>(the average distance of the data point to the mean)\n",
    "- $variance = (std)^2$\n",
    "\n",
    "\n",
    "<img src='images/data-normalization.png' />"
   ]
  },
  {
   "cell_type": "markdown",
   "metadata": {
    "hidden": true
   },
   "source": [
    "## Eigenvectors and Eigenvalues\n",
    "(eigen is the word 'characteristic' in German)\n",
    "\n",
    "A (non-zero) vector $v$ of dimension $N$ is an **eigenvector** of a square $N × N$ matrix $A$ if it satisfies the linear equation: $Av =\\lambda v$\n",
    "<br>where $λ$ is a scalar, termed the **eigenvalue** corresponding to $v$.\n",
    "\n",
    "That is, the *eigenvectors* are the vectors that the linear transformation $A$ merely **elongates or shrinks**, \n",
    "<br>and the amount that they elongate/shrink by is the *eigenvalue*.\n",
    "\n",
    "<img src='images/eigen-decomposition.png' />"
   ]
  },
  {
   "cell_type": "markdown",
   "metadata": {
    "heading_collapsed": true
   },
   "source": [
    "# PCA\n",
    "\n",
    "PCA is used as a method for Dimentionality Reduction\n",
    "\n",
    "- PCA transorms a set of variables into a new set of variables which are a linear combination of the original variables.\n",
    "- These new variables are known as **Principle Components**.\n",
    "- PCA is an ortogonal linear transformation that transform data into a new coordinate system such that \n",
    "    - the gratest variance by some projection of the data lies on the **first** principle component\n",
    "    - the second gratest variance lies on the **second** principle component\n",
    "    - etc.\n",
    "\n",
    "<img src='images/variance.png' />"
   ]
  },
  {
   "cell_type": "markdown",
   "metadata": {},
   "source": [
    "# PCA intuition"
   ]
  },
  {
   "cell_type": "markdown",
   "metadata": {},
   "source": [
    "## Data standardization\n",
    "Our first step before we do PCA is to standardize data.\n",
    "<br>We need to standardize data because (TODO: why?)\n",
    "<br>Standardizing means **puting the data on the same scale**\n",
    "<br> This means our data should have mean = 0 and variance = 1\n"
   ]
  },
  {
   "cell_type": "markdown",
   "metadata": {},
   "source": [
    "## Maximize variance\n",
    "PCA is a variance maximizing exersize.\n",
    "<br>It projects the original data on a direction that maximizes varience.\n"
   ]
  },
  {
   "cell_type": "markdown",
   "metadata": {},
   "source": [
    "## What is a rank of a matrix\n",
    "<img src='images/ran2.png' />"
   ]
  },
  {
   "cell_type": "markdown",
   "metadata": {},
   "source": [
    "## Here is what will be presented\n",
    "- First we'll make some data to apply PCA to\n",
    "- How to use **PCA()** function from sklearn to do PCA.\n",
    "- How to determine how much variation each principle component accounts for\n",
    "- How to draw PCA graph using matplotlib\n",
    "- Ho to examine the loading scores to determine what variables have the largest effect on the graph"
   ]
  },
  {
   "cell_type": "code",
   "execution_count": 1,
   "metadata": {},
   "outputs": [],
   "source": [
    "import pandas as pd\n",
    "import numpy as np\n",
    "import random as rd\n",
    "from sklearn.decomposition import PCA\n",
    "from sklearn import preprocessing # for scaling the data\n",
    "import matplotlib.pyplot as plt"
   ]
  },
  {
   "cell_type": "markdown",
   "metadata": {},
   "source": [
    "## Generate the sample dataset"
   ]
  },
  {
   "cell_type": "code",
   "execution_count": 2,
   "metadata": {},
   "outputs": [
    {
     "name": "stdout",
     "output_type": "stream",
     "text": [
      "(100, 10)\n"
     ]
    },
    {
     "data": {
      "text/html": [
       "<div>\n",
       "<style scoped>\n",
       "    .dataframe tbody tr th:only-of-type {\n",
       "        vertical-align: middle;\n",
       "    }\n",
       "\n",
       "    .dataframe tbody tr th {\n",
       "        vertical-align: top;\n",
       "    }\n",
       "\n",
       "    .dataframe thead th {\n",
       "        text-align: right;\n",
       "    }\n",
       "</style>\n",
       "<table border=\"1\" class=\"dataframe\">\n",
       "  <thead>\n",
       "    <tr style=\"text-align: right;\">\n",
       "      <th></th>\n",
       "      <th>wt1</th>\n",
       "      <th>wt2</th>\n",
       "      <th>wt3</th>\n",
       "      <th>wt4</th>\n",
       "      <th>wt5</th>\n",
       "      <th>ko1</th>\n",
       "      <th>ko2</th>\n",
       "      <th>ko3</th>\n",
       "      <th>ko4</th>\n",
       "      <th>ko5</th>\n",
       "    </tr>\n",
       "  </thead>\n",
       "  <tbody>\n",
       "    <tr>\n",
       "      <th>gene1</th>\n",
       "      <td>976</td>\n",
       "      <td>995</td>\n",
       "      <td>1011</td>\n",
       "      <td>997</td>\n",
       "      <td>993</td>\n",
       "      <td>314</td>\n",
       "      <td>317</td>\n",
       "      <td>284</td>\n",
       "      <td>302</td>\n",
       "      <td>279</td>\n",
       "    </tr>\n",
       "    <tr>\n",
       "      <th>gene2</th>\n",
       "      <td>504</td>\n",
       "      <td>479</td>\n",
       "      <td>466</td>\n",
       "      <td>472</td>\n",
       "      <td>487</td>\n",
       "      <td>268</td>\n",
       "      <td>321</td>\n",
       "      <td>291</td>\n",
       "      <td>280</td>\n",
       "      <td>284</td>\n",
       "    </tr>\n",
       "    <tr>\n",
       "      <th>gene3</th>\n",
       "      <td>1019</td>\n",
       "      <td>1020</td>\n",
       "      <td>971</td>\n",
       "      <td>992</td>\n",
       "      <td>988</td>\n",
       "      <td>282</td>\n",
       "      <td>346</td>\n",
       "      <td>343</td>\n",
       "      <td>339</td>\n",
       "      <td>340</td>\n",
       "    </tr>\n",
       "    <tr>\n",
       "      <th>gene4</th>\n",
       "      <td>374</td>\n",
       "      <td>391</td>\n",
       "      <td>370</td>\n",
       "      <td>372</td>\n",
       "      <td>389</td>\n",
       "      <td>172</td>\n",
       "      <td>171</td>\n",
       "      <td>174</td>\n",
       "      <td>169</td>\n",
       "      <td>165</td>\n",
       "    </tr>\n",
       "    <tr>\n",
       "      <th>gene5</th>\n",
       "      <td>596</td>\n",
       "      <td>567</td>\n",
       "      <td>606</td>\n",
       "      <td>600</td>\n",
       "      <td>647</td>\n",
       "      <td>62</td>\n",
       "      <td>60</td>\n",
       "      <td>61</td>\n",
       "      <td>64</td>\n",
       "      <td>50</td>\n",
       "    </tr>\n",
       "  </tbody>\n",
       "</table>\n",
       "</div>"
      ],
      "text/plain": [
       "        wt1   wt2   wt3  wt4  wt5  ko1  ko2  ko3  ko4  ko5\n",
       "gene1   976   995  1011  997  993  314  317  284  302  279\n",
       "gene2   504   479   466  472  487  268  321  291  280  284\n",
       "gene3  1019  1020   971  992  988  282  346  343  339  340\n",
       "gene4   374   391   370  372  389  172  171  174  169  165\n",
       "gene5   596   567   606  600  647   62   60   61   64   50"
      ]
     },
     "execution_count": 2,
     "metadata": {},
     "output_type": "execute_result"
    }
   ],
   "source": [
    "# generate an array of 100 gene names (row names)\n",
    "genes = ['gene' + str(i) for i in range(1,101)]\n",
    "\n",
    "# we now create arrays of sample names (column names)\n",
    "# we have 5 'wild types' or 'wt' samples and 5 'knock out' or 'ko' samples\n",
    "wt = ['wt' + str(i) for i in range(1,6)]\n",
    "ko = ['ko' + str(i) for i in range(1,6)]\n",
    "\n",
    "# create a dataframe to store the made-up data \n",
    "# (the starts unpack the wt and ko arrays)\n",
    "data = pd.DataFrame(columns=[*wt, *ko], index=genes)\n",
    "\n",
    "# for each gene in the index, we create 5 values for the 'wt' samples and 5 values for the 'ko' samples\n",
    "# the made up data comes from two poisson distributions (one for the 'wt' samples and the other for 'ko')\n",
    "# for each gene we select a new mean for the poisson distribution (the means can vary between 10-1000)\n",
    "for gene in data.index:\n",
    "    data.loc[gene,'wt1':'wt5'] = np.random.poisson(lam=rd.randrange(10,1000), size=5)\n",
    "    data.loc[gene,'ko1':'ko5'] = np.random.poisson(lam=rd.randrange(10,1000), size=5)\n",
    "\n",
    "print(data.shape)\n",
    "data.head()"
   ]
  },
  {
   "cell_type": "markdown",
   "metadata": {},
   "source": [
    "## scale the data\n",
    "before we do PCA we have to scale and center our data\n",
    "<br>after scaling: the average value for each gene will be 0 and the standard deviation will be 1"
   ]
  },
  {
   "cell_type": "code",
   "execution_count": 46,
   "metadata": {},
   "outputs": [
    {
     "name": "stderr",
     "output_type": "stream",
     "text": [
      "/home/yossi/dev/py/anomalies/pytorch/.env/lib/python3.6/site-packages/ipykernel_launcher.py:2: DataConversionWarning: Data with input dtype int64 were all converted to float64 by the scale function.\n",
      "  \n"
     ]
    }
   ],
   "source": [
    "# (the sacle function expect samples as rows instead of columns)\n",
    "scaled_data = preprocessing.scale(data.T)\n",
    "\n",
    "# you can also use: scaled_data = preprocessing.StandardScaler().fit_transform(data.T)"
   ]
  },
  {
   "cell_type": "markdown",
   "metadata": {},
   "source": [
    "## PCA"
   ]
  },
  {
   "cell_type": "code",
   "execution_count": 32,
   "metadata": {},
   "outputs": [],
   "source": [
    "pca = PCA()\n",
    "\n",
    "# this is where all the math goes, \n",
    "# (i.e: calculate loading scores and the variation each principle component accounts for)\n",
    "pca.fit(scaled_data)\n",
    "\n",
    "# this is where we generate coordinates for the PCA graph based on the loading scores and the scaled data.\n",
    "pca_data = pca.transform(scaled_data)"
   ]
  },
  {
   "cell_type": "markdown",
   "metadata": {},
   "source": [
    "## Draw a scree plot\n",
    "we'll start with a scree plot to see how many principle components should we use"
   ]
  },
  {
   "cell_type": "code",
   "execution_count": 35,
   "metadata": {},
   "outputs": [
    {
     "data": {
      "image/png": "[encoded data removed]",
      "text/plain": [
       "<Figure size 432x288 with 1 Axes>"
      ]
     },
     "metadata": {
      "needs_background": "light"
     },
     "output_type": "display_data"
    }
   ],
   "source": [
    "# calculate the percentage of variation each principle component accounts for\n",
    "per_var = np.round(pca.explained_variance_ratio_ * 100, decimals=1)\n",
    "\n",
    "labels = ['PC' + str(i) for i in range(1, len(per_var) + 1)] # 'PC1', 'PC2', etc.\n",
    "\n",
    "plt.bar(x=range(1, len(per_var) + 1), height=per_var, tick_label=labels)\n",
    "\n",
    "plt.ylabel('Percentage of explained variance')\n",
    "plt.xlabel('Principle component')\n",
    "plt.title('Scree Plot')\n",
    "plt.show()\n",
    "\n",
    "# we can see the almost all of the variation goes into the first principle component, so\n",
    "# a 2-D graph should do a good job in representing the original data."
   ]
  },
  {
   "cell_type": "markdown",
   "metadata": {},
   "source": [
    "## Draw the PCA graph"
   ]
  },
  {
   "cell_type": "code",
   "execution_count": 40,
   "metadata": {},
   "outputs": [
    {
     "data": {
      "text/html": [
       "<div>\n",
       "<style scoped>\n",
       "    .dataframe tbody tr th:only-of-type {\n",
       "        vertical-align: middle;\n",
       "    }\n",
       "\n",
       "    .dataframe tbody tr th {\n",
       "        vertical-align: top;\n",
       "    }\n",
       "\n",
       "    .dataframe thead th {\n",
       "        text-align: right;\n",
       "    }\n",
       "</style>\n",
       "<table border=\"1\" class=\"dataframe\">\n",
       "  <thead>\n",
       "    <tr style=\"text-align: right;\">\n",
       "      <th></th>\n",
       "      <th>PC1</th>\n",
       "      <th>PC2</th>\n",
       "      <th>PC3</th>\n",
       "      <th>PC4</th>\n",
       "      <th>PC5</th>\n",
       "      <th>PC6</th>\n",
       "      <th>PC7</th>\n",
       "      <th>PC8</th>\n",
       "      <th>PC9</th>\n",
       "      <th>PC10</th>\n",
       "    </tr>\n",
       "  </thead>\n",
       "  <tbody>\n",
       "    <tr>\n",
       "      <th>wt1</th>\n",
       "      <td>9.583738</td>\n",
       "      <td>-0.369369</td>\n",
       "      <td>-0.358148</td>\n",
       "      <td>-0.919604</td>\n",
       "      <td>-0.521742</td>\n",
       "      <td>2.081534</td>\n",
       "      <td>-0.520984</td>\n",
       "      <td>0.047490</td>\n",
       "      <td>-0.172291</td>\n",
       "      <td>3.435888e-15</td>\n",
       "    </tr>\n",
       "    <tr>\n",
       "      <th>wt2</th>\n",
       "      <td>9.963689</td>\n",
       "      <td>3.296437</td>\n",
       "      <td>-0.419593</td>\n",
       "      <td>1.841315</td>\n",
       "      <td>-0.426680</td>\n",
       "      <td>-0.068057</td>\n",
       "      <td>0.165852</td>\n",
       "      <td>0.019934</td>\n",
       "      <td>-0.043249</td>\n",
       "      <td>2.392090e-15</td>\n",
       "    </tr>\n",
       "    <tr>\n",
       "      <th>wt3</th>\n",
       "      <td>9.611746</td>\n",
       "      <td>0.735926</td>\n",
       "      <td>0.137615</td>\n",
       "      <td>-1.618333</td>\n",
       "      <td>0.922588</td>\n",
       "      <td>-0.606341</td>\n",
       "      <td>1.053338</td>\n",
       "      <td>0.654127</td>\n",
       "      <td>-0.105342</td>\n",
       "      <td>3.510422e-15</td>\n",
       "    </tr>\n",
       "    <tr>\n",
       "      <th>wt4</th>\n",
       "      <td>9.447182</td>\n",
       "      <td>-1.201107</td>\n",
       "      <td>-1.267179</td>\n",
       "      <td>-0.301881</td>\n",
       "      <td>0.020941</td>\n",
       "      <td>-1.149959</td>\n",
       "      <td>-1.046579</td>\n",
       "      <td>-0.249303</td>\n",
       "      <td>0.734267</td>\n",
       "      <td>3.433818e-15</td>\n",
       "    </tr>\n",
       "    <tr>\n",
       "      <th>wt5</th>\n",
       "      <td>9.488012</td>\n",
       "      <td>-2.540053</td>\n",
       "      <td>1.946657</td>\n",
       "      <td>0.973481</td>\n",
       "      <td>0.022912</td>\n",
       "      <td>-0.264799</td>\n",
       "      <td>0.315010</td>\n",
       "      <td>-0.459970</td>\n",
       "      <td>-0.407144</td>\n",
       "      <td>3.774606e-15</td>\n",
       "    </tr>\n",
       "    <tr>\n",
       "      <th>ko1</th>\n",
       "      <td>-9.705712</td>\n",
       "      <td>-1.479546</td>\n",
       "      <td>-0.709586</td>\n",
       "      <td>0.655074</td>\n",
       "      <td>-0.762185</td>\n",
       "      <td>-0.384960</td>\n",
       "      <td>-0.257989</td>\n",
       "      <td>1.119131</td>\n",
       "      <td>-0.540206</td>\n",
       "      <td>-2.815000e-15</td>\n",
       "    </tr>\n",
       "    <tr>\n",
       "      <th>ko2</th>\n",
       "      <td>-9.736142</td>\n",
       "      <td>0.130934</td>\n",
       "      <td>0.048725</td>\n",
       "      <td>0.763344</td>\n",
       "      <td>2.212489</td>\n",
       "      <td>0.618870</td>\n",
       "      <td>-0.482450</td>\n",
       "      <td>0.027298</td>\n",
       "      <td>0.113625</td>\n",
       "      <td>-2.861332e-15</td>\n",
       "    </tr>\n",
       "    <tr>\n",
       "      <th>ko3</th>\n",
       "      <td>-9.738483</td>\n",
       "      <td>0.876273</td>\n",
       "      <td>1.987575</td>\n",
       "      <td>-0.397551</td>\n",
       "      <td>-0.836537</td>\n",
       "      <td>0.087964</td>\n",
       "      <td>-0.074707</td>\n",
       "      <td>0.234925</td>\n",
       "      <td>0.955763</td>\n",
       "      <td>-3.082574e-15</td>\n",
       "    </tr>\n",
       "    <tr>\n",
       "      <th>ko4</th>\n",
       "      <td>-9.565771</td>\n",
       "      <td>1.547398</td>\n",
       "      <td>0.162115</td>\n",
       "      <td>-1.133322</td>\n",
       "      <td>-0.273539</td>\n",
       "      <td>-0.650618</td>\n",
       "      <td>-0.541782</td>\n",
       "      <td>-0.762599</td>\n",
       "      <td>-0.857287</td>\n",
       "      <td>-1.831590e-15</td>\n",
       "    </tr>\n",
       "    <tr>\n",
       "      <th>ko5</th>\n",
       "      <td>-9.348259</td>\n",
       "      <td>-0.996893</td>\n",
       "      <td>-1.528180</td>\n",
       "      <td>0.137476</td>\n",
       "      <td>-0.358246</td>\n",
       "      <td>0.336365</td>\n",
       "      <td>1.390291</td>\n",
       "      <td>-0.631033</td>\n",
       "      <td>0.321865</td>\n",
       "      <td>-3.207791e-15</td>\n",
       "    </tr>\n",
       "  </tbody>\n",
       "</table>\n",
       "</div>"
      ],
      "text/plain": [
       "          PC1       PC2       PC3       PC4       PC5       PC6       PC7  \\\n",
       "wt1  9.583738 -0.369369 -0.358148 -0.919604 -0.521742  2.081534 -0.520984   \n",
       "wt2  9.963689  3.296437 -0.419593  1.841315 -0.426680 -0.068057  0.165852   \n",
       "wt3  9.611746  0.735926  0.137615 -1.618333  0.922588 -0.606341  1.053338   \n",
       "wt4  9.447182 -1.201107 -1.267179 -0.301881  0.020941 -1.149959 -1.046579   \n",
       "wt5  9.488012 -2.540053  1.946657  0.973481  0.022912 -0.264799  0.315010   \n",
       "ko1 -9.705712 -1.479546 -0.709586  0.655074 -0.762185 -0.384960 -0.257989   \n",
       "ko2 -9.736142  0.130934  0.048725  0.763344  2.212489  0.618870 -0.482450   \n",
       "ko3 -9.738483  0.876273  1.987575 -0.397551 -0.836537  0.087964 -0.074707   \n",
       "ko4 -9.565771  1.547398  0.162115 -1.133322 -0.273539 -0.650618 -0.541782   \n",
       "ko5 -9.348259 -0.996893 -1.528180  0.137476 -0.358246  0.336365  1.390291   \n",
       "\n",
       "          PC8       PC9          PC10  \n",
       "wt1  0.047490 -0.172291  3.435888e-15  \n",
       "wt2  0.019934 -0.043249  2.392090e-15  \n",
       "wt3  0.654127 -0.105342  3.510422e-15  \n",
       "wt4 -0.249303  0.734267  3.433818e-15  \n",
       "wt5 -0.459970 -0.407144  3.774606e-15  \n",
       "ko1  1.119131 -0.540206 -2.815000e-15  \n",
       "ko2  0.027298  0.113625 -2.861332e-15  \n",
       "ko3  0.234925  0.955763 -3.082574e-15  \n",
       "ko4 -0.762599 -0.857287 -1.831590e-15  \n",
       "ko5 -0.631033  0.321865 -3.207791e-15  "
      ]
     },
     "execution_count": 40,
     "metadata": {},
     "output_type": "execute_result"
    }
   ],
   "source": [
    "# we'll put the new coordinates created by pca.transform(scaled_data) into a matrix\n",
    "# where the rows have sample labels and the columns have PC labels\n",
    "pca_df = pd.DataFrame(pca_data, index=[*wt, *ko], columns=labels)\n",
    "pca_df"
   ]
  },
  {
   "cell_type": "code",
   "execution_count": 47,
   "metadata": {},
   "outputs": [
    {
     "data": {
      "image/png": "[encoded data removed]",
      "text/plain": [
       "<Figure size 432x288 with 1 Axes>"
      ]
     },
     "metadata": {
      "needs_background": "light"
     },
     "output_type": "display_data"
    }
   ],
   "source": [
    "plt.scatter(pca_df.PC1, pca_df.PC2)\n",
    "plt.title('PCA plot')\n",
    "plt.xlabel('PC1 - {}%'.format(per_var[0]))\n",
    "plt.ylabel('PC2 - {}%'.format(per_var[1]))\n",
    "\n",
    "# add sample names to the graph\n",
    "for sample in pca_df.index:\n",
    "    plt.annotate(sample, (pca_df.PC1.loc[sample], pca_df.PC2.loc[sample]))\n",
    "\n",
    "plt.show()"
   ]
  },
  {
   "cell_type": "markdown",
   "metadata": {},
   "source": [
    "The 'ko' samples are clustered on the left, suggesting they are correlated with each other.\n",
    "\n",
    "The 'wt' samples are clustered on the right, also correlated with each other.\n",
    "\n",
    "Lastly, lets look at the loading scores for PC1 to determine which genes had the largest influence\n",
    "<br> on separating the two clusters along the x-axis."
   ]
  },
  {
   "cell_type": "code",
   "execution_count": 49,
   "metadata": {},
   "outputs": [
    {
     "name": "stdout",
     "output_type": "stream",
     "text": [
      "gene83    0.103920\n",
      "gene50    0.103918\n",
      "gene74    0.103911\n",
      "gene84    0.103900\n",
      "gene43    0.103890\n",
      "gene6     0.103889\n",
      "gene98    0.103887\n",
      "gene45    0.103867\n",
      "gene42    0.103842\n",
      "gene90    0.103833\n",
      "dtype: float64\n"
     ]
    }
   ],
   "source": [
    "loading_scores = pd.Series(pca.components_[0], index=genes)\n",
    "sorted_loading_scores = loading_scores.abs().sort_values(ascending=False)\n",
    "top_10_genes = sorted_loading_scores[0:10].index.values\n",
    "print(sorted_loading_scores[top_10_genes])"
   ]
  }
 ],
 "metadata": {
  "kernelspec": {
   "display_name": "Python 3",
   "language": "python",
   "name": "python3"
  },
  "language_info": {
   "codemirror_mode": {
    "name": "ipython",
    "version": 3
   },
   "file_extension": ".py",
   "mimetype": "text/x-python",
   "name": "python",
   "nbconvert_exporter": "python",
   "pygments_lexer": "ipython3",
   "version": "3.6.7"
  },
  "latex_envs": {
   "LaTeX_envs_menu_present": true,
   "autoclose": false,
   "autocomplete": true,
   "bibliofile": "biblio.bib",
   "cite_by": "apalike",
   "current_citInitial": 1,
   "eqLabelWithNumbers": true,
   "eqNumInitial": 1,
   "hotkeys": {
    "equation": "Ctrl-E",
    "itemize": "Ctrl-I"
   },
   "labels_anchors": false,
   "latex_user_defs": false,
   "report_style_numbering": false,
   "user_envs_cfg": false
  }
 },
 "nbformat": 4,
 "nbformat_minor": 2
}
